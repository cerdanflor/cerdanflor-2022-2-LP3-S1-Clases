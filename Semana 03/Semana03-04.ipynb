{
 "cells": [
  {
   "cell_type": "markdown",
   "id": "2af8b0f5",
   "metadata": {},
   "source": [
    "# SEMANA03\n",
    "Mg. Flor Elizabeth Cerdán León"
   ]
  },
  {
   "cell_type": "markdown",
   "id": "dc2fd315",
   "metadata": {},
   "source": [
    "# Temas:\n",
    "1. Números\n",
    "2. Variables\n",
    "3. Manejo de Cadenas\n",
    "4. Ingreso de Datos por Teclado\n",
    "5. Operadores\n"
   ]
  },
  {
   "cell_type": "markdown",
   "id": "627523c0",
   "metadata": {},
   "source": [
    "4. Ingreso de Datos por Teclado"
   ]
  },
  {
   "cell_type": "code",
   "execution_count": 3,
   "id": "c0ceeffe",
   "metadata": {},
   "outputs": [
    {
     "name": "stdout",
     "output_type": "stream",
     "text": [
      "¿Cúal es tu nombre?\n",
      "Elizabeth\n",
      "Hola Elizabeth\n"
     ]
    }
   ],
   "source": [
    "# Función input()\n",
    "print(\"¿Cúal es tu nombre?\")\n",
    "nombre = input()\n",
    "print(\"Hola \" + nombre)"
   ]
  },
  {
   "cell_type": "code",
   "execution_count": 4,
   "id": "de16ba5b",
   "metadata": {},
   "outputs": [
    {
     "name": "stdout",
     "output_type": "stream",
     "text": [
      "número 1: \n",
      "8\n",
      "número 2: \n",
      "9\n",
      " El resulatdo es 17\n"
     ]
    }
   ],
   "source": [
    "# Cuando ingresa un valor por teclado lo hace como cadena\n",
    "print(\"número 1: \")\n",
    "numero1 = input()\n",
    "print(\"número 2: \")\n",
    "numero2 = input()\n",
    "numero3 = int(numero1) + int(numero2)\n",
    "print(f\" El resulatdo es {numero3}\")"
   ]
  }
 ],
 "metadata": {
  "kernelspec": {
   "display_name": "Python 3 (ipykernel)",
   "language": "python",
   "name": "python3"
  },
  "language_info": {
   "codemirror_mode": {
    "name": "ipython",
    "version": 3
   },
   "file_extension": ".py",
   "mimetype": "text/x-python",
   "name": "python",
   "nbconvert_exporter": "python",
   "pygments_lexer": "ipython3",
   "version": "3.9.7"
  }
 },
 "nbformat": 4,
 "nbformat_minor": 5
}
