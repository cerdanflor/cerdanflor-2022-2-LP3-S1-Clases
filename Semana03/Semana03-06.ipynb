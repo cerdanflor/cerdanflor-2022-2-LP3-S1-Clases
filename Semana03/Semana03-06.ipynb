{
 "cells": [
  {
   "cell_type": "markdown",
   "id": "160e065e",
   "metadata": {},
   "source": [
    "# SEMANA 03\n",
    "Mg. Flor Elizabeth Cerdán León"
   ]
  },
  {
   "cell_type": "markdown",
   "id": "2193eaf5",
   "metadata": {},
   "source": [
    "Temas\n",
    "1. Colecciones de Datos\n",
    "2. Estructuras Decisivas y Estructuras Repetitivas en Python\n",
    "3. Clases y Objetos\n",
    "4. Funciones"
   ]
  },
  {
   "cell_type": "markdown",
   "id": "1e1f1a22",
   "metadata": {},
   "source": [
    "1. Colecciones"
   ]
  },
  {
   "cell_type": "code",
   "execution_count": 3,
   "id": "3f1d3635",
   "metadata": {},
   "outputs": [
    {
     "name": "stdout",
     "output_type": "stream",
     "text": [
      "['Silvestre', 'Uñapillco', 'Bravo', 'Alagon']\n"
     ]
    }
   ],
   "source": [
    "# 1.1 Listas\n",
    "# Es una colección de elementos que puede ser ordenada, mosidficada, etc....\n",
    "# Se identifica por los corchetes\n",
    "# Ejemplo:\n",
    "aula = ['Silvestre','Uñapillco','Bravo', 'Alagon']\n",
    "print(aula)"
   ]
  },
  {
   "cell_type": "code",
   "execution_count": 4,
   "id": "b1ce7da1",
   "metadata": {},
   "outputs": [
    {
     "data": {
      "text/plain": [
       "['Silvestre', 'Uñapillco', 'Bravo', 'Alagon']"
      ]
     },
     "execution_count": 4,
     "metadata": {},
     "output_type": "execute_result"
    }
   ],
   "source": [
    "aula"
   ]
  },
  {
   "cell_type": "code",
   "execution_count": 6,
   "id": "7b830951",
   "metadata": {},
   "outputs": [
    {
     "name": "stdout",
     "output_type": "stream",
     "text": [
      "Silvestre\n",
      "Uñapillco\n"
     ]
    }
   ],
   "source": [
    "# Puedo extraer cada elemento por su posición\n",
    "print(aula[0])\n",
    "print(aula[1])"
   ]
  },
  {
   "cell_type": "code",
   "execution_count": 7,
   "id": "d04856e9",
   "metadata": {},
   "outputs": [
    {
     "data": {
      "text/plain": [
       "'Chavez'"
      ]
     },
     "execution_count": 7,
     "metadata": {},
     "output_type": "execute_result"
    }
   ],
   "source": [
    "# Puedo asignar un valor a una posición de la lista\n",
    "aula[1]= 'Chavez'\n",
    "aula[1]"
   ]
  },
  {
   "cell_type": "code",
   "execution_count": 8,
   "id": "90455434",
   "metadata": {},
   "outputs": [
    {
     "data": {
      "text/plain": [
       "['Silvestre', 'Chavez', 'Bravo', 'Alagon']"
      ]
     },
     "execution_count": 8,
     "metadata": {},
     "output_type": "execute_result"
    }
   ],
   "source": [
    "# Mostrar como quedó la lista\n",
    "aula"
   ]
  },
  {
   "cell_type": "code",
   "execution_count": 9,
   "id": "84b35407",
   "metadata": {},
   "outputs": [
    {
     "data": {
      "text/plain": [
       "['Silvestre', 'Chavez', 'Bravo', 'Alagon', 'Navarro', 'Bravo']"
      ]
     },
     "execution_count": 9,
     "metadata": {},
     "output_type": "execute_result"
    }
   ],
   "source": [
    "# Para agregar un elemento utilizamos append\n",
    "aula.append(\"Navarro\")\n",
    "aula.append(\"Bravo\")\n",
    "aula"
   ]
  },
  {
   "cell_type": "code",
   "execution_count": 10,
   "id": "6015d416",
   "metadata": {},
   "outputs": [
    {
     "data": {
      "text/plain": [
       "['Chavez', 'Bravo', 'Alagon', 'Navarro', 'Bravo']"
      ]
     },
     "execution_count": 10,
     "metadata": {},
     "output_type": "execute_result"
    }
   ],
   "source": [
    "# Para eliminar elementos utilizamos remove[]\n",
    "aula.remove(\"Silvestre\")\n",
    "aula"
   ]
  },
  {
   "cell_type": "code",
   "execution_count": 11,
   "id": "5514f8b1",
   "metadata": {},
   "outputs": [
    {
     "data": {
      "text/plain": [
       "['Chavez', 'Alagon', 'Navarro', 'Bravo']"
      ]
     },
     "execution_count": 11,
     "metadata": {},
     "output_type": "execute_result"
    }
   ],
   "source": [
    "# Si hubiera varios elementos de valores iguales se elimina la primera coincidencia\n",
    "aula.remove(\"Bravo\")\n",
    "aula"
   ]
  },
  {
   "cell_type": "code",
   "execution_count": 12,
   "id": "1faedd39",
   "metadata": {},
   "outputs": [
    {
     "data": {
      "text/plain": [
       "4"
      ]
     },
     "execution_count": 12,
     "metadata": {},
     "output_type": "execute_result"
    }
   ],
   "source": [
    "# Para obtener el tamalo utilizamos len()\n",
    "len(aula)"
   ]
  },
  {
   "cell_type": "code",
   "execution_count": 13,
   "id": "087eda41",
   "metadata": {},
   "outputs": [
    {
     "name": "stdout",
     "output_type": "stream",
     "text": [
      "Chavez\n",
      "Alagon\n",
      "Navarro\n",
      "Bravo\n"
     ]
    }
   ],
   "source": [
    "# Para recorrer podemos utilizar una estructura repetitiva for\n",
    "for alumno in aula:\n",
    "    print(alumno)"
   ]
  },
  {
   "cell_type": "code",
   "execution_count": 14,
   "id": "d983fb18",
   "metadata": {},
   "outputs": [
    {
     "data": {
      "text/plain": [
       "['Bravo', 'Navarro', 'Alagon', 'Chavez']"
      ]
     },
     "execution_count": 14,
     "metadata": {},
     "output_type": "execute_result"
    }
   ],
   "source": [
    "# Para invertir la lista utilizamos reverse()\n",
    "# Ojo: Invertir no significa ordenar en forma descendente sin invertir la lista\n",
    "aula.reverse()\n",
    "aula\n",
    "\n"
   ]
  },
  {
   "cell_type": "code",
   "execution_count": 15,
   "id": "0e3e833e",
   "metadata": {},
   "outputs": [
    {
     "data": {
      "text/plain": [
       "['Alagon', 'Bravo', 'Chavez', 'Navarro']"
      ]
     },
     "execution_count": 15,
     "metadata": {},
     "output_type": "execute_result"
    }
   ],
   "source": [
    "# Para ordenar una lista utilizamos sort()\n",
    "aula.sort()\n",
    "aula"
   ]
  },
  {
   "cell_type": "code",
   "execution_count": 16,
   "id": "dc52bebb",
   "metadata": {},
   "outputs": [],
   "source": [
    "# 1.2 Tuplas"
   ]
  },
  {
   "cell_type": "code",
   "execution_count": 17,
   "id": "f59c0c69",
   "metadata": {},
   "outputs": [
    {
     "data": {
      "text/plain": [
       "('Silvestre', 'Chavez', 'Bravo', 'Alagon')"
      ]
     },
     "execution_count": 17,
     "metadata": {},
     "output_type": "execute_result"
    }
   ],
   "source": [
    "# Es una colección de elementos ordenada(ordenado significa que tiene un índice) que no se puede modificar, es inalterable.\n",
    "# No se pueden agregar elementos ni eliminar.\n",
    "# Se identifica por los paréntesis\n",
    "\n",
    "tupla_aula = ('Silvestre', 'Chavez', 'Bravo', 'Alagon')\n",
    "tupla_aula"
   ]
  },
  {
   "cell_type": "code",
   "execution_count": 18,
   "id": "03946933",
   "metadata": {},
   "outputs": [
    {
     "name": "stdout",
     "output_type": "stream",
     "text": [
      "Silvestre\n",
      "Chavez\n",
      "Bravo\n",
      "Alagon\n"
     ]
    }
   ],
   "source": [
    "# S e puede recorrer con una estructura repetitiva\n",
    "# Ejemplo\n",
    "\n",
    "for alumno in tupla_aula:\n",
    "    print(alumno)"
   ]
  },
  {
   "cell_type": "code",
   "execution_count": 19,
   "id": "71aed8fb",
   "metadata": {},
   "outputs": [
    {
     "data": {
      "text/plain": [
       "'Bravo'"
      ]
     },
     "execution_count": 19,
     "metadata": {},
     "output_type": "execute_result"
    }
   ],
   "source": [
    "# Se puede extraer un elemento por su posición\n",
    "tupla_aula[2]"
   ]
  },
  {
   "cell_type": "code",
   "execution_count": 20,
   "id": "493a7889",
   "metadata": {},
   "outputs": [
    {
     "data": {
      "text/plain": [
       "4"
      ]
     },
     "execution_count": 20,
     "metadata": {},
     "output_type": "execute_result"
    }
   ],
   "source": [
    "# Para saber la cantidad de elementos de una tupla utilizamos len()\n",
    "len(tupla_aula)"
   ]
  },
  {
   "cell_type": "code",
   "execution_count": 21,
   "id": "8a4b5689",
   "metadata": {},
   "outputs": [
    {
     "data": {
      "text/plain": [
       "{'Alagon', 'Bravo', 'Chavez', 'Silvestre'}"
      ]
     },
     "execution_count": 21,
     "metadata": {},
     "output_type": "execute_result"
    }
   ],
   "source": [
    "# 1.3 Conjuntos\n",
    "# Es una colección de elementos que no está ordenado(Significa que no tiene un índice)\n",
    "conjunto_aula = {'Silvestre', 'Chavez', 'Bravo', 'Alagon'}\n",
    "conjunto_aula"
   ]
  },
  {
   "cell_type": "code",
   "execution_count": 22,
   "id": "99e95f8b",
   "metadata": {},
   "outputs": [
    {
     "name": "stdout",
     "output_type": "stream",
     "text": [
      "Chavez\n",
      "Silvestre\n",
      "Alagon\n",
      "Bravo\n"
     ]
    }
   ],
   "source": [
    "# Se puede recorrer utilizando una estructura repetitiva\n",
    "# Ejemplo:\n",
    "for alumno in conjunto_aula:\n",
    "    print(alumno)"
   ]
  },
  {
   "cell_type": "code",
   "execution_count": 24,
   "id": "5669b11d",
   "metadata": {},
   "outputs": [
    {
     "ename": "TypeError",
     "evalue": "'set' object is not subscriptable",
     "output_type": "error",
     "traceback": [
      "\u001b[1;31m---------------------------------------------------------------------------\u001b[0m",
      "\u001b[1;31mTypeError\u001b[0m                                 Traceback (most recent call last)",
      "\u001b[1;32m~\\AppData\\Local\\Temp/ipykernel_10252/4003200856.py\u001b[0m in \u001b[0;36m<module>\u001b[1;34m\u001b[0m\n\u001b[0;32m      2\u001b[0m \u001b[1;31m# No se puede acceder por posición, púes no considera indexación\u001b[0m\u001b[1;33m\u001b[0m\u001b[1;33m\u001b[0m\u001b[0m\n\u001b[0;32m      3\u001b[0m \u001b[1;31m# Ejemplo:conjunto_aula[2] devolverá un mensaje de error\u001b[0m\u001b[1;33m\u001b[0m\u001b[1;33m\u001b[0m\u001b[0m\n\u001b[1;32m----> 4\u001b[1;33m \u001b[0mconjunto_aula\u001b[0m\u001b[1;33m[\u001b[0m\u001b[1;36m2\u001b[0m\u001b[1;33m]\u001b[0m\u001b[1;33m\u001b[0m\u001b[1;33m\u001b[0m\u001b[0m\n\u001b[0m",
      "\u001b[1;31mTypeError\u001b[0m: 'set' object is not subscriptable"
     ]
    }
   ],
   "source": [
    "# Observación:\n",
    "# No se puede acceder por posición, púes no considera indexación\n",
    "# Ejemplo:conjunto_aula[2] devolverá un mensaje de error\n",
    "conjunto_aula[2]"
   ]
  },
  {
   "cell_type": "code",
   "execution_count": 25,
   "id": "1288e209",
   "metadata": {},
   "outputs": [
    {
     "data": {
      "text/plain": [
       "4"
      ]
     },
     "execution_count": 25,
     "metadata": {},
     "output_type": "execute_result"
    }
   ],
   "source": [
    "# Para saber la cantidad de elementos utilizamos len()\n",
    "len(conjunto_aula)"
   ]
  },
  {
   "cell_type": "code",
   "execution_count": 26,
   "id": "9bded9e5",
   "metadata": {},
   "outputs": [
    {
     "data": {
      "text/plain": [
       "{'Alagon', 'Bravo', 'Chavez', 'Palomino', 'Silvestre'}"
      ]
     },
     "execution_count": 26,
     "metadata": {},
     "output_type": "execute_result"
    }
   ],
   "source": [
    "# Para agregar utilizamos la función add()\n",
    "conjunto_aula.add(\"Palomino\")\n",
    "conjunto_aula"
   ]
  },
  {
   "cell_type": "code",
   "execution_count": 27,
   "id": "b26b20b5",
   "metadata": {},
   "outputs": [],
   "source": [
    "# 1.4 Diccionarios "
   ]
  },
  {
   "cell_type": "code",
   "execution_count": 28,
   "id": "3a2e0090",
   "metadata": {},
   "outputs": [
    {
     "data": {
      "text/plain": [
       "{2: 'Alagon', '1': 'Bravo', 'dos': 'Chavez', '3': 'Palomino', '0': 'Silvestre'}"
      ]
     },
     "execution_count": 28,
     "metadata": {},
     "output_type": "execute_result"
    }
   ],
   "source": [
    "# Es una colección de elementos, que están indexados, no están ordenados y se puede modificar\n",
    "# Son escritos entre llaves y están formados por pares de elementos   INDICE: VALOR\n",
    "\n",
    "diccionario_aula = {2:'Alagon', '1': 'Bravo','dos':'Chavez', '3': 'Palomino', '0':'Silvestre'}\n",
    "diccionario_aula"
   ]
  },
  {
   "cell_type": "code",
   "execution_count": 29,
   "id": "b00ac80a",
   "metadata": {},
   "outputs": [
    {
     "data": {
      "text/plain": [
       "'Silvestre'"
      ]
     },
     "execution_count": 29,
     "metadata": {},
     "output_type": "execute_result"
    }
   ],
   "source": [
    "# Del diccionario : diccionario_aula extraer el valor cuyo índice sea cero en String:\n",
    "diccionario_aula['0']"
   ]
  },
  {
   "cell_type": "code",
   "execution_count": 30,
   "id": "c3adf1cd",
   "metadata": {},
   "outputs": [
    {
     "data": {
      "text/plain": [
       "'Alagon'"
      ]
     },
     "execution_count": 30,
     "metadata": {},
     "output_type": "execute_result"
    }
   ],
   "source": [
    "diccionario_aula[2]"
   ]
  },
  {
   "cell_type": "code",
   "execution_count": 31,
   "id": "72efc9bb",
   "metadata": {},
   "outputs": [
    {
     "data": {
      "text/plain": [
       "'Bravo'"
      ]
     },
     "execution_count": 31,
     "metadata": {},
     "output_type": "execute_result"
    }
   ],
   "source": [
    "diccionario_aula[\"1\"]"
   ]
  },
  {
   "cell_type": "code",
   "execution_count": 32,
   "id": "89919a5c",
   "metadata": {},
   "outputs": [
    {
     "data": {
      "text/plain": [
       "'Chavez'"
      ]
     },
     "execution_count": 32,
     "metadata": {},
     "output_type": "execute_result"
    }
   ],
   "source": [
    "diccionario_aula[\"dos\"]"
   ]
  },
  {
   "cell_type": "code",
   "execution_count": 33,
   "id": "80fb1980",
   "metadata": {},
   "outputs": [
    {
     "data": {
      "text/plain": [
       "{2: 'Alagon',\n",
       " '1': 'Bravo',\n",
       " 'dos': 'Chavez',\n",
       " '3': 'Palomino',\n",
       " '0': 'Silvestre',\n",
       " '20': 'Vilca'}"
      ]
     },
     "execution_count": 33,
     "metadata": {},
     "output_type": "execute_result"
    }
   ],
   "source": [
    "# Para añadir un par de elementos al diccionario hacemos:\n",
    "diccionario_aula['20'] = \"Vilca\"\n",
    "diccionario_aula"
   ]
  },
  {
   "cell_type": "code",
   "execution_count": 34,
   "id": "4af06a5b",
   "metadata": {},
   "outputs": [
    {
     "data": {
      "text/plain": [
       "{'1': 'Bravo',\n",
       " 'dos': 'Chavez',\n",
       " '3': 'Palomino',\n",
       " '0': 'Silvestre',\n",
       " '20': 'Vilca'}"
      ]
     },
     "execution_count": 34,
     "metadata": {},
     "output_type": "execute_result"
    }
   ],
   "source": [
    "# Para eliminar un valor se utiliza pop()\n",
    "# Ejemplo: Eliminar el elemnto de índice dos. Para eliminar a Alagon hacemos lo siguiente:\n",
    "diccionario_aula.pop(2)\n",
    "diccionario_aula"
   ]
  },
  {
   "cell_type": "code",
   "execution_count": 35,
   "id": "28493d93",
   "metadata": {},
   "outputs": [
    {
     "data": {
      "text/plain": [
       "{'1': 'Bravo', '3': 'Palomino', '0': 'Silvestre', '20': 'Vilca'}"
      ]
     },
     "execution_count": 35,
     "metadata": {},
     "output_type": "execute_result"
    }
   ],
   "source": [
    "# Tambien se puede eliminar utilizando del()\n",
    "del(diccionario_aula[\"dos\"])\n",
    "diccionario_aula"
   ]
  },
  {
   "cell_type": "code",
   "execution_count": 36,
   "id": "c637fc60",
   "metadata": {},
   "outputs": [
    {
     "name": "stdout",
     "output_type": "stream",
     "text": [
      "1\n",
      "3\n",
      "0\n",
      "20\n"
     ]
    }
   ],
   "source": [
    "# Para poder recorrer todos los elementos podemos utilizar for\n",
    "# Ejemplo: Devuelve los índices\n",
    "for indice in diccionario_aula:\n",
    "    print(indice)"
   ]
  },
  {
   "cell_type": "code",
   "execution_count": null,
   "id": "c8ab1569",
   "metadata": {},
   "outputs": [],
   "source": [
    "# 1.5 Ejercicio:\n",
    "# Dado una lista de [ALAGON, ARONES, BRAVO, CABEZAS,CAMAN, CAMARENA, CASAS,CORRALES, DE LA CRUZ, ESCOBAR, FELIX, FERNANDEZ, GARCIA, HUANUCO, NANQUEN, NAVARRO, PARILLO, QUISPE, SAIRA, SERNA, SILVESTRE,TOMASTO, UÑAPILLCO, VARGAS, VENTOCILLA,VENTURI, WONG, ZEVALLOS]\n",
    "# Diseñar un código que muestre si el apellido de un estudiante (Ingresado por el teclado) forma parte de la lista\n",
    "# tiempo: 12 minutos"
   ]
  }
 ],
 "metadata": {
  "kernelspec": {
   "display_name": "Python 3 (ipykernel)",
   "language": "python",
   "name": "python3"
  },
  "language_info": {
   "codemirror_mode": {
    "name": "ipython",
    "version": 3
   },
   "file_extension": ".py",
   "mimetype": "text/x-python",
   "name": "python",
   "nbconvert_exporter": "python",
   "pygments_lexer": "ipython3",
   "version": "3.9.12"
  }
 },
 "nbformat": 4,
 "nbformat_minor": 5
}
